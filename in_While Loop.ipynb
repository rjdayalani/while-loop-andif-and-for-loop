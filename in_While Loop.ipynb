{
 "cells": [
  {
   "cell_type": "code",
   "execution_count": 11,
   "id": "240c0238",
   "metadata": {},
   "outputs": [
    {
     "name": "stdout",
     "output_type": "stream",
     "text": [
      "enter total notes to deposit10\n",
      "enter note value10\n",
      " your total amount is 10 is on note count 1\n",
      " your total amount is 20 is on note count 2\n",
      " your total amount is 30 is on note count 3\n",
      " your total amount is 40 is on note count 4\n",
      " your total amount is 50 is on note count 5\n",
      " your total amount is 60 is on note count 6\n",
      " your total amount is 70 is on note count 7\n",
      " your total amount is 80 is on note count 8\n",
      " your total amount is 90 is on note count 9\n",
      " your total amount is 100 is on note count 10\n",
      "total is 100\n"
     ]
    }
   ],
   "source": [
    "#while loop, note count\n",
    "total_notes=int(input('enter total notes to deposit'))\n",
    "note_amt=(int(input('enter note value')))\n",
    "count = 1\n",
    "while count<=total_notes:\n",
    "    print(f' your total amount is {count*note_amt} is on note count {count}')\n",
    "    count= count+1\n",
    "print('total is',(count-1)*note_amt)"
   ]
  },
  {
   "cell_type": "code",
   "execution_count": 16,
   "id": "7e172736",
   "metadata": {},
   "outputs": [
    {
     "name": "stdout",
     "output_type": "stream",
     "text": [
      "Its Delhi station, and your station is Kolkata so enjoy journey\n",
      "Its Mumbai station, and your station is Kolkata so enjoy journey\n",
      "your current station Kolkata is arrived, Thank you for choosing us\n"
     ]
    }
   ],
   "source": [
    "#metro station\n",
    "stations = ['Delhi','Mumbai','Kolkata','Chennai']\n",
    "current_station=0\n",
    "destination_station='Kolkata'\n",
    "while stations[current_station] != destination_station:\n",
    "    print(f'Its {stations[current_station]} station, and your station is {destination_station} so enjoy journey')\n",
    "    current_station+=1\n",
    "print(f'your current station {stations[current_station]} is arrived, Thank you for choosing us')"
   ]
  },
  {
   "cell_type": "code",
   "execution_count": 17,
   "id": "a41168f8",
   "metadata": {},
   "outputs": [],
   "source": []
  },
  {
   "cell_type": "code",
   "execution_count": 27,
   "id": "b18b3f2c",
   "metadata": {},
   "outputs": [
    {
     "name": "stdout",
     "output_type": "stream",
     "text": [
      "*\n",
      "**\n",
      "***\n",
      "****\n",
      "*****\n"
     ]
    }
   ],
   "source": [
    "i=1\n",
    "while i in range(1,6):\n",
    "    print(\"*\"*i)\n",
    "    i=i+1"
   ]
  },
  {
   "cell_type": "code",
   "execution_count": 8,
   "id": "736b2597",
   "metadata": {},
   "outputs": [
    {
     "name": "stdout",
     "output_type": "stream",
     "text": [
      "*****\n",
      "****\n",
      "***\n",
      "**\n",
      "*\n"
     ]
    }
   ],
   "source": [
    "i=5\n",
    "while i in range(5,0,-1):\n",
    "    print(\"*\"*i)\n",
    "    i-=1"
   ]
  },
  {
   "cell_type": "code",
   "execution_count": 14,
   "id": "f137acfb",
   "metadata": {},
   "outputs": [
    {
     "name": "stdout",
     "output_type": "stream",
     "text": [
      "     *\n",
      "    **\n",
      "   ***\n",
      "  ****\n",
      " *****\n"
     ]
    }
   ],
   "source": [
    "i=1\n",
    "j=5\n",
    "while i in range(1,6):\n",
    "    print(\" \"*j+\"*\"*i)\n",
    "    i+=1\n",
    "    j-=1"
   ]
  },
  {
   "cell_type": "code",
   "execution_count": 15,
   "id": "1e790762",
   "metadata": {},
   "outputs": [
    {
     "name": "stdout",
     "output_type": "stream",
     "text": [
      " *****\n",
      "  ****\n",
      "   ***\n",
      "    **\n",
      "     *\n"
     ]
    }
   ],
   "source": [
    "i=5\n",
    "j=1\n",
    "while j in range(5,0,-1):\n",
    "    print(\" \"*j+\"*\"*i)\n",
    "    i-=1\n",
    "    j+=1"
   ]
  },
  {
   "cell_type": "code",
   "execution_count": 35,
   "id": "297cdf17",
   "metadata": {},
   "outputs": [
    {
     "name": "stdout",
     "output_type": "stream",
     "text": [
      "* * * * * \n",
      " * * * *  \n",
      "  * * *   \n",
      "   * *    \n",
      "    *     \n"
     ]
    }
   ],
   "source": [
    "i=5\n",
    "j=0\n",
    "while i in range(5,0,-1):\n",
    "    print(\" \"*j+\"* \"*i+\" \"*j)\n",
    "    i-=1\n",
    "    j+=1"
   ]
  },
  {
   "cell_type": "code",
   "execution_count": 38,
   "id": "49d96ef6",
   "metadata": {},
   "outputs": [
    {
     "name": "stdout",
     "output_type": "stream",
     "text": [
      "  * * * * * \n",
      "   * * * *  \n",
      "    * * *   \n",
      "     * *    \n",
      "      *     \n"
     ]
    }
   ],
   "source": [
    "i=1\n",
    "j=5\n",
    "while i in range(1,6):\n",
    "    print(\" \"*i+\" *\"*j+\" \"*i)\n",
    "    i+=1\n",
    "    j-=1"
   ]
  },
  {
   "cell_type": "code",
   "execution_count": 46,
   "id": "dfca63eb",
   "metadata": {},
   "outputs": [
    {
     "name": "stdout",
     "output_type": "stream",
     "text": [
      "      *     \n",
      "     * *    \n",
      "    * * *   \n",
      "   * * * *  \n",
      "  * * * * * \n"
     ]
    }
   ],
   "source": [
    "i=1\n",
    "j=5\n",
    "while i in range(1,6):\n",
    "    print(\" \"*j+\" *\"*i+\" \"*j)\n",
    "    i+=1\n",
    "    j-=1"
   ]
  },
  {
   "cell_type": "code",
   "execution_count": 51,
   "id": "5b569a2b",
   "metadata": {},
   "outputs": [
    {
     "name": "stdout",
     "output_type": "stream",
     "text": [
      "     * \n",
      "    * * \n",
      "   * * * \n",
      "  * * * * \n",
      " * * * * * \n"
     ]
    }
   ],
   "source": [
    "i=1\n",
    "j=5\n",
    "while i in range(1,6):\n",
    "    print(\" \"*j+\"* \"*i)\n",
    "    i+=1\n",
    "    j-=1"
   ]
  },
  {
   "cell_type": "code",
   "execution_count": 74,
   "id": "1339dfb0",
   "metadata": {},
   "outputs": [
    {
     "name": "stdout",
     "output_type": "stream",
     "text": [
      "     *\n",
      "    **\n",
      "   ***\n",
      "  ****\n",
      " *****\n",
      "******\n",
      " *****\n",
      "  ****\n",
      "   ***\n",
      "    **\n",
      "     *\n"
     ]
    }
   ],
   "source": [
    "i=1\n",
    "j=5\n",
    "k=0\n",
    "l=6\n",
    "while j in range(5,0,-1):\n",
    "    print(\" \"*j+\"*\"*i)\n",
    "    i+=1\n",
    "    j-=1\n",
    "while k in range(0,6):    \n",
    "    print(\" \"*k+\"*\"*l)\n",
    "    k+=1\n",
    "    l-=1"
   ]
  },
  {
   "cell_type": "code",
   "execution_count": 79,
   "id": "e4d3b54b",
   "metadata": {},
   "outputs": [
    {
     "name": "stdout",
     "output_type": "stream",
     "text": [
      "*     \n",
      "**    \n",
      "***   \n",
      "****  \n",
      "***** \n",
      "******\n",
      "***** \n",
      "****  \n",
      "***   \n",
      "**    \n",
      "*     \n"
     ]
    }
   ],
   "source": [
    "i=1\n",
    "j=5\n",
    "k=0\n",
    "l=6\n",
    "while j in range(5,0,-1):\n",
    "    print(\"*\"*i+\" \"*j)\n",
    "    i+=1\n",
    "    j-=1\n",
    "while k in range(0,6):    \n",
    "    print(\"*\"*l+\" \"*k)\n",
    "    k+=1\n",
    "    l-=1"
   ]
  },
  {
   "cell_type": "code",
   "execution_count": 80,
   "id": "58abb859",
   "metadata": {},
   "outputs": [
    {
     "name": "stdout",
     "output_type": "stream",
     "text": [
      "     *\n",
      "    **\n",
      "   ***\n",
      "  ****\n",
      " *****\n",
      "******\n",
      "***** \n",
      "****  \n",
      "***   \n",
      "**    \n",
      "*     \n"
     ]
    }
   ],
   "source": [
    "i=1\n",
    "j=5\n",
    "k=0\n",
    "l=6\n",
    "while j in range(5,0,-1):\n",
    "    print(\" \"*j+\"*\"*i)\n",
    "    i+=1\n",
    "    j-=1\n",
    "while k in range(0,6):    \n",
    "    print(\"*\"*l+\" \"*k)\n",
    "    k+=1\n",
    "    l-=1"
   ]
  },
  {
   "cell_type": "code",
   "execution_count": 1,
   "id": "bb01975b",
   "metadata": {},
   "outputs": [
    {
     "name": "stdout",
     "output_type": "stream",
     "text": [
      "*     \n",
      "**    \n",
      "***   \n",
      "****  \n",
      "***** \n",
      "******\n",
      " *****\n",
      "  ****\n",
      "   ***\n",
      "    **\n",
      "     *\n"
     ]
    }
   ],
   "source": [
    "i=1\n",
    "j=5\n",
    "k=0\n",
    "l=6\n",
    "while j in range(5,0,-1):\n",
    "    print(\"*\"*i+\" \"*j)\n",
    "    i+=1\n",
    "    j-=1\n",
    "while k in range(0,6):    \n",
    "    print(\" \"*k+\"*\"*l)\n",
    "    k+=1\n",
    "    l-=1"
   ]
  },
  {
   "cell_type": "code",
   "execution_count": 6,
   "id": "9c15090d",
   "metadata": {},
   "outputs": [
    {
     "name": "stdout",
     "output_type": "stream",
     "text": [
      "*\n",
      "**\n",
      "***\n",
      "****\n",
      "*****\n",
      "******\n",
      "*****\n",
      "****\n",
      "***\n",
      "**\n",
      "*\n"
     ]
    }
   ],
   "source": [
    "i=1\n",
    "k=6\n",
    "while i in range(1,6):\n",
    "    print(\"*\"*i)\n",
    "    i+=1\n",
    "while k in range(6,0,-1):    \n",
    "    print(\"*\"*k)\n",
    "    k-=1"
   ]
  },
  {
   "cell_type": "code",
   "execution_count": 13,
   "id": "006d6d90",
   "metadata": {},
   "outputs": [
    {
     "name": "stdout",
     "output_type": "stream",
     "text": [
      "*          *\n",
      "**        **\n",
      "***      ***\n",
      "****    ****\n",
      "*****  *****\n",
      "************\n",
      "*****  *****\n",
      "****    ****\n",
      "***      ***\n",
      "**        **\n",
      "*          *\n"
     ]
    }
   ],
   "source": [
    "i=1\n",
    "j=5\n",
    "k=0\n",
    "l=6\n",
    "while j in range(5,0,-1):\n",
    "    print(\"*\"*i+\" \"*j+\" \"*j+\"*\"*i)\n",
    "    i+=1\n",
    "    j-=1\n",
    "while k in range(0,6):    \n",
    "    print(\"*\"*l+\" \"*k+\" \"*k+\"*\"*l)\n",
    "    k+=1\n",
    "    l-=1"
   ]
  },
  {
   "cell_type": "code",
   "execution_count": 27,
   "id": "02ae2d6f",
   "metadata": {},
   "outputs": [
    {
     "name": "stdout",
     "output_type": "stream",
     "text": [
      " ********** \n",
      "  ********  \n",
      "   ******   \n",
      "    ****    \n",
      "     **     \n",
      "            \n",
      "     **     \n",
      "    ****    \n",
      "   ******   \n",
      "  ********  \n",
      " ********** \n"
     ]
    }
   ],
   "source": [
    "i=1\n",
    "j=5\n",
    "k=0\n",
    "l=6\n",
    "while j in range(5,0,-1):\n",
    "    print(\" \"*i+\"*\"*j+\"*\"*j+\" \"*i)\n",
    "    i+=1\n",
    "    j-=1\n",
    "while k in range(0,6):    \n",
    "    print(\" \"*l+\"*\"*k+\"*\"*k+\" \"*l)\n",
    "    k+=1\n",
    "    l-=1"
   ]
  },
  {
   "cell_type": "code",
   "execution_count": 37,
   "id": "5a27489d",
   "metadata": {},
   "outputs": [
    {
     "name": "stdout",
     "output_type": "stream",
     "text": [
      "     **     \n",
      "    ****    \n",
      "   ******   \n",
      "  ********  \n",
      " ********** \n",
      "************\n",
      " ********** \n",
      "  ********  \n",
      "   ******   \n",
      "    ****    \n",
      "     **     \n"
     ]
    }
   ],
   "source": [
    "i=1\n",
    "j=5\n",
    "k=0\n",
    "l=6\n",
    "while j in range(5,0,-1):\n",
    "    print(\" \"*j+\"*\"*i+\"*\"*i+\" \"*j)\n",
    "    i+=1\n",
    "    j-=1\n",
    "while k in range(0,6):    \n",
    "    print(\" \"*k+\"*\"*l+\"*\"*l+\" \"*k)\n",
    "    k+=1\n",
    "    l-=1"
   ]
  },
  {
   "cell_type": "code",
   "execution_count": 43,
   "id": "ae5dd49e",
   "metadata": {},
   "outputs": [
    {
     "name": "stdout",
     "output_type": "stream",
     "text": [
      "*****  *****\n",
      "****    ****\n",
      "***      ***\n",
      "**        **\n",
      "*          *\n",
      "            \n",
      "*          *\n",
      "**        **\n",
      "***      ***\n",
      "****    ****\n",
      "*****  *****\n"
     ]
    }
   ],
   "source": [
    "i=1\n",
    "j=5\n",
    "k=0\n",
    "l=6\n",
    "while j in range(5,0,-1):\n",
    "    print(\"*\"*j+\" \"*i+\" \"*i+\"*\"*j)\n",
    "    i+=1\n",
    "    j-=1\n",
    "while k in range(0,6):    \n",
    "    print(\"*\"*k+\" \"*l+\" \"*l+\"*\"*k)\n",
    "    k+=1\n",
    "    l-=1"
   ]
  },
  {
   "cell_type": "code",
   "execution_count": 13,
   "id": "729c65cd",
   "metadata": {},
   "outputs": [
    {
     "name": "stdout",
     "output_type": "stream",
     "text": [
      "****** \n",
      " \n",
      "***** \n",
      " \n",
      "**** \n",
      " \n",
      "*** \n",
      " \n",
      "** \n",
      " \n",
      "* \n",
      " \n"
     ]
    }
   ],
   "source": [
    "i=6\n",
    "while i in range(6,0,-1):\n",
    "    print(\"*\"*i+\" \\n \")\n",
    "    i-=1"
   ]
  },
  {
   "cell_type": "code",
   "execution_count": 12,
   "id": "a7b61672",
   "metadata": {},
   "outputs": [
    {
     "name": "stdout",
     "output_type": "stream",
     "text": [
      " *            * \n",
      " *  *          *  * \n",
      " *  *  *        *  *  * \n",
      " *  *  *  *      *  *  *  * \n",
      " *  *  *  *  *    *  *  *  *  * \n",
      " *  *  *  *  *  *  *  *  *  *  *  * \n",
      " *  *  *  *  *    *  *  *  *  * \n",
      " *  *  *  *      *  *  *  * \n",
      " *  *  *        *  *  * \n",
      " *  *          *  * \n",
      " *            * \n"
     ]
    }
   ],
   "source": [
    "i=1\n",
    "j=5\n",
    "k=0\n",
    "l=6\n",
    "while j in range(5,0,-1):\n",
    "    print(\" * \"*i+\" \"*j+\" \"*j+\" * \"*i)\n",
    "    i+=1\n",
    "    j-=1\n",
    "while k in range(0,6):    \n",
    "    print(\" * \"*l+\" \"*k+\" \"*k+\" * \"*l)\n",
    "    k+=1\n",
    "    l-=1"
   ]
  },
  {
   "cell_type": "code",
   "execution_count": 47,
   "id": "d4389358",
   "metadata": {},
   "outputs": [
    {
     "name": "stdout",
     "output_type": "stream",
     "text": [
      "1\n",
      "12\n",
      "123\n",
      "1234\n",
      "12345\n"
     ]
    }
   ],
   "source": [
    "i = 1\n",
    "while i <= 5:\n",
    "  j = 1\n",
    "  while j <= i:\n",
    "    print(j, end=\"\") #this end will stop to create new line it will continue printing in same line till inner while working \n",
    "    j += 1\n",
    "  print() #this will print new line\n",
    "  i += 1"
   ]
  },
  {
   "cell_type": "code",
   "execution_count": 55,
   "id": "ec753e40",
   "metadata": {},
   "outputs": [
    {
     "name": "stdout",
     "output_type": "stream",
     "text": [
      "Hello World\n"
     ]
    }
   ],
   "source": [
    "print(\"Hello\", end=\"\")\n",
    "print(\" World\")"
   ]
  },
  {
   "cell_type": "code",
   "execution_count": 51,
   "id": "0e88d9ef",
   "metadata": {},
   "outputs": [
    {
     "name": "stdout",
     "output_type": "stream",
     "text": [
      "Hello\n",
      " World\n"
     ]
    }
   ],
   "source": [
    "print(\"Hello\")\n",
    "print(\" World\")"
   ]
  },
  {
   "cell_type": "code",
   "execution_count": 57,
   "id": "1913880d",
   "metadata": {},
   "outputs": [
    {
     "name": "stdout",
     "output_type": "stream",
     "text": [
      "0123456789"
     ]
    }
   ],
   "source": [
    "for i in range(10):\n",
    "  print(i, end=\"\")"
   ]
  },
  {
   "cell_type": "code",
   "execution_count": 63,
   "id": "7de2771b",
   "metadata": {},
   "outputs": [
    {
     "name": "stdout",
     "output_type": "stream",
     "text": [
      "0 1 2 3 4 5 6 7 8 9 <class 'int'>\n"
     ]
    }
   ],
   "source": [
    "for i in range(10):\n",
    "  print(i, end=\" \")\n",
    "print(type(i))"
   ]
  },
  {
   "cell_type": "code",
   "execution_count": 64,
   "id": "54cad37f",
   "metadata": {},
   "outputs": [
    {
     "name": "stdout",
     "output_type": "stream",
     "text": [
      "0\n",
      "1\n",
      "2\n",
      "3\n",
      "4\n",
      "5\n",
      "6\n",
      "7\n",
      "8\n",
      "9\n",
      "<class 'int'>\n"
     ]
    }
   ],
   "source": [
    "for i in range(10):\n",
    "  print(i)\n",
    "print(type(i))"
   ]
  },
  {
   "cell_type": "code",
   "execution_count": 71,
   "id": "2a862c7b",
   "metadata": {},
   "outputs": [
    {
     "name": "stdout",
     "output_type": "stream",
     "text": [
      "1\n",
      "12\n",
      "123\n",
      "1234\n",
      "12345\n"
     ]
    }
   ],
   "source": [
    "i=1\n",
    "while i<=5:\n",
    "    j=1\n",
    "    while j<=i:\n",
    "        print(j,end=\"\")\n",
    "        j+=1\n",
    "    print()\n",
    "    i+=1    "
   ]
  },
  {
   "cell_type": "code",
   "execution_count": 72,
   "id": "8fcfd9b5",
   "metadata": {},
   "outputs": [
    {
     "name": "stdout",
     "output_type": "stream",
     "text": [
      "1\n",
      "22\n",
      "333\n",
      "4444\n",
      "55555\n"
     ]
    }
   ],
   "source": [
    "i=1\n",
    "while i<=5:\n",
    "    j=1\n",
    "    while j<=i:\n",
    "        print(i,end=\"\")\n",
    "        j+=1\n",
    "    print()\n",
    "    i+=1 "
   ]
  },
  {
   "cell_type": "code",
   "execution_count": 73,
   "id": "25220a4a",
   "metadata": {},
   "outputs": [
    {
     "name": "stdout",
     "output_type": "stream",
     "text": [
      "*****\n",
      "*****\n",
      "*****\n",
      "*****\n",
      "*****\n"
     ]
    }
   ],
   "source": [
    "i=5\n",
    "while i>0:\n",
    "    print(\"*\"*5)\n",
    "    i-=1"
   ]
  },
  {
   "cell_type": "code",
   "execution_count": 81,
   "id": "f2198cce",
   "metadata": {},
   "outputs": [
    {
     "name": "stdout",
     "output_type": "stream",
     "text": [
      "12345\n",
      "1234\n",
      "123\n",
      "12\n",
      "1\n",
      "\n"
     ]
    }
   ],
   "source": [
    "i=5\n",
    "while i>=0:\n",
    "    j=1\n",
    "    while j<=i:\n",
    "        print(j,end=\"\")\n",
    "        j+=1\n",
    "    print()\n",
    "    i-=1"
   ]
  },
  {
   "cell_type": "code",
   "execution_count": 38,
   "id": "16d1d689",
   "metadata": {},
   "outputs": [
    {
     "name": "stdout",
     "output_type": "stream",
     "text": [
      "55555\n",
      "4444\n",
      "333\n",
      "22\n",
      "1\n",
      "\n"
     ]
    }
   ],
   "source": [
    "i=5\n",
    "while i>=0:\n",
    "    j=1\n",
    "    while j<=i:\n",
    "        print(i,end=\"\")\n",
    "        j+=1\n",
    "    print()\n",
    "    i-=1"
   ]
  },
  {
   "cell_type": "code",
   "execution_count": 15,
   "id": "1239d41c",
   "metadata": {},
   "outputs": [
    {
     "name": "stdout",
     "output_type": "stream",
     "text": [
      "1 \n",
      "0 1 \n",
      "1 0 1 \n",
      "0 1 0 1 \n",
      "1 0 1 0 1 \n"
     ]
    }
   ],
   "source": [
    "n = 5 # number of rows\n",
    "i = 1 # counter for while loop\n",
    "while i <= n:\n",
    "    # print leading spaces\n",
    "    for j in range(n-i):\n",
    "        print(\"\", end=\"\")\n",
    "    # print alternating 1s and 0s\n",
    "    for j in range(i):\n",
    "        print(\"1\" if (j+i) % 2 == 1 else \"0\", end=\" \")\n",
    "    print() # move to next line\n",
    "    i += 1"
   ]
  },
  {
   "cell_type": "code",
   "execution_count": 5,
   "id": "fdbea5b8",
   "metadata": {},
   "outputs": [
    {
     "name": "stdout",
     "output_type": "stream",
     "text": [
      "        1 \n",
      "      1 2 1 \n",
      "    1 2 3 2 1 \n",
      "  1 2 3 4 3 2 1 \n",
      "1 2 3 4 5 4 3 2 1 \n"
     ]
    }
   ],
   "source": [
    "n = 5 # number of rows\n",
    "i = 1 # counter for while loop\n",
    "while i <= n:\n",
    "    # print leading spaces\n",
    "    for j in range(n-i):\n",
    "        print(\"  \", end=\"\")\n",
    "    # print first half of row\n",
    "    for j in range(i):\n",
    "        print(j+1, end=\" \")\n",
    "    # print second half of row\n",
    "    for j in range(i-1, 0, -1):\n",
    "        print(j, end=\" \")\n",
    "    print() # move to next line\n",
    "    i += 1"
   ]
  },
  {
   "cell_type": "code",
   "execution_count": 8,
   "id": "73c0af26",
   "metadata": {},
   "outputs": [
    {
     "name": "stdout",
     "output_type": "stream",
     "text": [
      "    1\n",
      "   121\n",
      "  12321\n",
      " 1234321\n",
      "123454321\n"
     ]
    }
   ],
   "source": [
    "n = 5 # number of rows\n",
    "i = 1 # counter for while loop\n",
    "while i <= n:\n",
    "    # print leading spaces\n",
    "    for j in range(n-i):\n",
    "        print(\" \", end=\"\")\n",
    "    # print first half of row\n",
    "    for j in range(i):\n",
    "        print(j+1, end=\"\")\n",
    "    # print second half of row\n",
    "    for j in range(i-1, 0, -1):\n",
    "        print(j, end=\"\")\n",
    "    print() # move to next line\n",
    "    i += 1"
   ]
  },
  {
   "cell_type": "code",
   "execution_count": 35,
   "id": "fcb178f5",
   "metadata": {},
   "outputs": [
    {
     "name": "stdout",
     "output_type": "stream",
     "text": [
      "1                 1 \n",
      "1 2             2 1 \n",
      "1 2 3         3 2 1 \n",
      "1 2 3 4     4 3 2 1 \n",
      "1 2 3 4 5 5 4 3 2 1 \n"
     ]
    }
   ],
   "source": [
    "t = 5 # number of rows\n",
    "\n",
    "for i in range(1, t+1):\n",
    "    for j in range(1, 2*t+1):\n",
    "        if j <= i:\n",
    "            print(j, end=\" \")\n",
    "        elif abs(2*t-j) < i:\n",
    "            print(abs(2*t-j)+1, end=\" \")\n",
    "        else:\n",
    "            print(\" \", end=\" \")\n",
    "    print()"
   ]
  },
  {
   "cell_type": "code",
   "execution_count": 36,
   "id": "7235ef57",
   "metadata": {},
   "outputs": [
    {
     "name": "stdout",
     "output_type": "stream",
     "text": [
      "1                 1 \n",
      "1 2             2 1 \n",
      "1 2 3         3 2 1 \n",
      "1 2 3 4     4 3 2 1 \n",
      "1 2 3 4 5 5 4 3 2 1 \n"
     ]
    }
   ],
   "source": [
    "t = 5 # number of rows\n",
    "i = 1 # counter for while loop\n",
    "\n",
    "while i <= t:\n",
    "    j = 1 # counter for inner loop\n",
    "    while j <= 2*t:\n",
    "        if j <= i:\n",
    "            print(j, end=\" \")\n",
    "        elif abs(2*t-j) < i:\n",
    "            print(abs(2*t-j)+1, end=\" \")\n",
    "        else:\n",
    "            print(\" \", end=\" \")\n",
    "        j += 1\n",
    "    print()\n",
    "    i += 1"
   ]
  },
  {
   "cell_type": "code",
   "execution_count": 37,
   "id": "de8f40dd",
   "metadata": {},
   "outputs": [
    {
     "name": "stdout",
     "output_type": "stream",
     "text": [
      "1 \n",
      "2 3 \n",
      "4 5 6 \n",
      "7 8 9 10 \n",
      "11 12 13 14 15 \n"
     ]
    }
   ],
   "source": [
    "n = 5 # number of rows\n",
    "i = 1 # counter for while loop\n",
    "\n",
    "counter = 1 # counter for the numbers\n",
    "\n",
    "while i <= n:\n",
    "    j = 1 # counter for inner loop\n",
    "    while j <= i:\n",
    "        print(counter, end=\" \")\n",
    "        counter += 1\n",
    "        j += 1\n",
    "    print()\n",
    "    i += 1"
   ]
  },
  {
   "cell_type": "code",
   "execution_count": null,
   "id": "58c48cc9",
   "metadata": {},
   "outputs": [],
   "source": []
  }
 ],
 "metadata": {
  "kernelspec": {
   "display_name": "Python 3 (ipykernel)",
   "language": "python",
   "name": "python3"
  },
  "language_info": {
   "codemirror_mode": {
    "name": "ipython",
    "version": 3
   },
   "file_extension": ".py",
   "mimetype": "text/x-python",
   "name": "python",
   "nbconvert_exporter": "python",
   "pygments_lexer": "ipython3",
   "version": "3.9.13"
  }
 },
 "nbformat": 4,
 "nbformat_minor": 5
}
